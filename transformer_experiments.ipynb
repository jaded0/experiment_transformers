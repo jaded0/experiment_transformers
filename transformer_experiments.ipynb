{
 "cells": [
  {
   "attachments": {},
   "cell_type": "markdown",
   "metadata": {},
   "source": [
    "# Transformer Experiments\n",
    "I was thinking about how the attention layer in transformers literally just uses linear layers with a couple dot product operations. I wondered if such a process was learnable by a simple neural network, but in my brainstorm sesh with ChatGPT, it didn't like the idea. In the 'Attention is all you need' paper, they talk about how attention sort of reduces the path between dependencies in the input. Like, it allows the input to compare itself *to itself*. So, it's hard to replicate that with linear layers because in order to do so requires a significant amount of depth. Anyways, the key idea here is to make a sort of dot product layer with learnable parameters so that the model has more immediate access (without so much depth required) to compare a set of activations to itself. "
   ]
  },
  {
   "attachments": {},
   "cell_type": "markdown",
   "metadata": {},
   "source": [
    "## Baseline\n",
    "This is GPT-2, hopefully modifiable so that I can swap out its attention. If not, that's just embarrassing."
   ]
  },
  {
   "attachments": {},
   "cell_type": "markdown",
   "metadata": {},
   "source": [
    "### prompt"
   ]
  },
  {
   "attachments": {},
   "cell_type": "markdown",
   "metadata": {},
   "source": [
    "I'm experimenting with a new architecture for a transformer. I only have my rtx 3090 laptop gpu, for now, which has 16gb memory. I'd like to be able to train a transformer, with passable results, just on my machine, so I need a baseline model and dataset which are small enough in resources for me to be able to iterate fairly quickly as I tinker with the model structure. I'd like it to be a decoder-only model, as well. \n",
    "Given your constraints, you can start by working with a small-scale decoder-only transformer model and a modestly-sized dataset. Here's a suggestion for the baseline model and dataset:\n",
    "\n",
    "Baseline Model:\n",
    "Since you want a decoder-only model, you can use a scaled-down version of GPT-2 as your baseline. The GPT-2 architecture is based on the Transformer architecture and is designed for text generation tasks. To fit your GPU memory, you can reduce the number of layers (transformer blocks) and the hidden size of the model, as well as the number of attention heads.\n",
    "\n",
    "For example, instead of using the original GPT-2 configuration with 12 layers, 768 hidden units, and 12 attention heads, you could experiment with a smaller model, such as 4 layers, 256 hidden units, and 4 attention heads.\n",
    "\n",
    "Dataset:\n",
    "A suitable dataset would be small enough to fit in your GPU memory and enable quick experimentation but still diverse enough to allow your model to learn meaningful representations. One possible option is the \"WikiText-2\" dataset, a collection of Wikipedia articles containing over 2 million tokens. This dataset is widely used for language modeling tasks and is smaller than the \"WikiText-103\" dataset.\n",
    "\n",
    "Training:\n",
    "To accelerate training, you can use mixed-precision training, which leverages half-precision (float16) arithmetic to reduce memory usage and training time. Additionally, you can experiment with gradient accumulation to further fit your model within the GPU memory constraints.\n",
    "\n",
    "Remember to start with a smaller batch size and lower learning rate to accommodate your GPU's memory limitations, and gradually increase them if possible. Monitor the training loss and performance on a validation set to ensure that the model is learning effectively.\n",
    "\n",
    "Once you have established a baseline with the scaled-down GPT-2 model and WikiText-2 dataset, you can start experimenting with your new architecture and compare its performance against the baseline."
   ]
  },
  {
   "attachments": {},
   "cell_type": "markdown",
   "metadata": {},
   "source": [
    "### code"
   ]
  },
  {
   "cell_type": "code",
   "execution_count": 1,
   "metadata": {},
   "outputs": [],
   "source": [
    "import torch\n",
    "from torch.utils.data import Dataset, DataLoader\n",
    "from transformers import GPT2LMHeadModel, GPT2Tokenizer, GPT2Config\n",
    "from torch.optim import AdamW\n"
   ]
  },
  {
   "cell_type": "code",
   "execution_count": 2,
   "metadata": {},
   "outputs": [],
   "source": [
    "class WikiText2Dataset(Dataset):\n",
    "    def __init__(self, data_path, tokenizer, seq_length):\n",
    "        with open(data_path, \"r\") as file:\n",
    "            text = file.read()\n",
    "\n",
    "        self.tokenizer = tokenizer\n",
    "\n",
    "        # Split the text into smaller chunks and tokenize them\n",
    "        chunk_size = seq_length * 10\n",
    "        text_chunks = [text[i:i + chunk_size] for i in range(0, len(text), chunk_size)]\n",
    "        tokenized_chunks = []\n",
    "\n",
    "        for chunk in text_chunks:\n",
    "            tokenized_chunk = tokenizer(chunk, return_tensors=\"pt\", add_special_tokens=True)[\"input_ids\"]\n",
    "            if tokenized_chunk.size(1) < seq_length:\n",
    "                tokenized_chunk = torch.cat([tokenized_chunk, torch.zeros(1, seq_length - tokenized_chunk.size(1), dtype=torch.long)], dim=1)\n",
    "            tokenized_chunks.append(tokenized_chunk)\n",
    "\n",
    "        # Create input sequences with the specified sequence length\n",
    "        self.inputs = []\n",
    "\n",
    "        for tokenized_chunk in tokenized_chunks:\n",
    "            for i in range(0, tokenized_chunk.size(1) - seq_length, seq_length):\n",
    "                input_sequence = tokenized_chunk[0, i:i + seq_length]\n",
    "                self.inputs.append(input_sequence)\n",
    "\n",
    "        self.inputs = torch.stack(self.inputs)\n",
    "\n",
    "    def __len__(self):\n",
    "        return len(self.inputs)\n",
    "\n",
    "    def __getitem__(self, idx):\n",
    "        return self.inputs[idx]"
   ]
  },
  {
   "cell_type": "code",
   "execution_count": 3,
   "metadata": {},
   "outputs": [
    {
     "name": "stdout",
     "output_type": "stream",
     "text": [
      "pad_token: <|endoftext|>, pad_token_id: 50256\n"
     ]
    }
   ],
   "source": [
    "# Initialize the tokenizer and the dataset\n",
    "tokenizer = GPT2Tokenizer.from_pretrained(\"gpt2\")\n",
    "tokenizer.pad_token = tokenizer.eos_token\n",
    "print(f'pad_token: {tokenizer.pad_token}, pad_token_id: {tokenizer.pad_token_id}')\n",
    "seq_length = 32\n",
    "train_dataset = WikiText2Dataset(\"wikitext-2-raw/wiki.train.raw\", tokenizer, seq_length)\n"
   ]
  },
  {
   "cell_type": "code",
   "execution_count": 4,
   "metadata": {},
   "outputs": [
    {
     "name": "stdout",
     "output_type": "stream",
     "text": [
      "Number of training samples: 16210\n",
      "Number of batches: 2027\n",
      "train_loader length: 2027\n",
      "Warmup fraction: 0.0082223318533136\n"
     ]
    }
   ],
   "source": [
    "# Create a DataLoader\n",
    "batch_size = 8\n",
    "train_loader = DataLoader(train_dataset, batch_size=batch_size, shuffle=True)\n",
    "\n",
    "print(\"Number of training samples:\", len(train_dataset))\n",
    "print(\"Number of batches:\", len(train_loader))\n",
    "\n",
    "# Define the model configuration and instantiate the GPT-2 model\n",
    "config = GPT2Config(\n",
    "    vocab_size=tokenizer.vocab_size,\n",
    "    n_positions=tokenizer.max_model_input_sizes[\"gpt2\"],\n",
    "    n_ctx=tokenizer.max_model_input_sizes[\"gpt2\"],\n",
    "    n_embd=256,\n",
    "    n_layer=4,\n",
    "    n_head=4,\n",
    "    activation_function=\"gelu\"\n",
    ")\n",
    "\n",
    "model = GPT2LMHeadModel(config)\n",
    "\n",
    "device = torch.device(\"cuda\" if torch.cuda.is_available() else \"cpu\")\n",
    "# device = torch.device(\"cpu\")\n",
    "\n",
    "model.to(device)\n",
    "\n",
    "num_epochs = 3\n",
    "learning_rate = 2e-4\n",
    "warmup_steps = 50  # Reduce the warmup steps to ensure the warmup_fraction is within the expected range.\n",
    "\n",
    "optimizer = AdamW(model.parameters(), lr=learning_rate)\n",
    "print(f'train_loader length: {len(train_loader)}')\n",
    "warmup_fraction = warmup_steps / (len(train_loader) * num_epochs)\n",
    "print(\"Warmup fraction:\", warmup_fraction)\n",
    "scheduler = torch.optim.lr_scheduler.OneCycleLR(optimizer, max_lr=learning_rate, total_steps=len(train_loader) * num_epochs, pct_start=warmup_fraction)\n"
   ]
  },
  {
   "cell_type": "code",
   "execution_count": 5,
   "metadata": {},
   "outputs": [],
   "source": [
    "# # Train the model\n",
    "# model.train()\n",
    "# max_token_index = max([token for batch in train_loader for seq in batch for token in seq])\n",
    "# print(\"Max token index in the dataset:\", max_token_index)\n",
    "# print(\"Tokenizer vocab size:\", tokenizer.vocab_size)\n",
    "\n",
    "# for epoch in range(num_epochs):\n",
    "#     for step, batch in enumerate(train_loader):\n",
    "#         inputs = batch.to(device)\n",
    "#         # print(\"Input shape:\", inputs.shape)\n",
    "#         # print(\"Inputs:\", inputs)\n",
    "#         outputs = model(inputs, labels=inputs)\n",
    "#         loss = outputs.loss\n",
    "\n",
    "#         loss.backward()\n",
    "#         optimizer.step()\n",
    "#         scheduler.step()\n",
    "#         optimizer.zero_grad()\n",
    "\n",
    "#         if step % 100 == 0:\n",
    "#             print(f\"Epoch: {epoch + 1}, Step: {step}, Loss: {loss.item()}\")"
   ]
  },
  {
   "cell_type": "code",
   "execution_count": 7,
   "metadata": {},
   "outputs": [
    {
     "data": {
      "image/png": "[encoded data removed]",
      "text/plain": [
       "<Figure size 640x480 with 1 Axes>"
      ]
     },
     "metadata": {},
     "output_type": "display_data"
    },
    {
     "ename": "KeyboardInterrupt",
     "evalue": "",
     "output_type": "error",
     "traceback": [
      "\u001b[1;31m---------------------------------------------------------------------------\u001b[0m",
      "\u001b[1;31mKeyboardInterrupt\u001b[0m                         Traceback (most recent call last)",
      "Cell \u001b[1;32mIn[7], line 47\u001b[0m\n\u001b[0;32m     45\u001b[0m     optimizer\u001b[39m.\u001b[39mstep()\n\u001b[0;32m     46\u001b[0m     scheduler\u001b[39m.\u001b[39mstep()\n\u001b[1;32m---> 47\u001b[0m     optimizer\u001b[39m.\u001b[39;49mzero_grad()\n\u001b[0;32m     49\u001b[0m     losses\u001b[39m.\u001b[39mappend(loss\u001b[39m.\u001b[39mitem())\n\u001b[0;32m     51\u001b[0m plot_loss_graph(losses, epoch \u001b[39m+\u001b[39m \u001b[39m1\u001b[39m)\n",
      "File \u001b[1;32m~\\AppData\\Roaming\\Python\\Python310\\site-packages\\torch\\optim\\optimizer.py:279\u001b[0m, in \u001b[0;36mOptimizer.zero_grad\u001b[1;34m(self, set_to_none)\u001b[0m\n\u001b[0;32m    277\u001b[0m     p\u001b[39m.\u001b[39mgrad\u001b[39m.\u001b[39mrequires_grad_(\u001b[39mFalse\u001b[39;00m)\n\u001b[0;32m    278\u001b[0m \u001b[39mif\u001b[39;00m (\u001b[39mnot\u001b[39;00m foreach \u001b[39mor\u001b[39;00m p\u001b[39m.\u001b[39mgrad\u001b[39m.\u001b[39mis_sparse):\n\u001b[1;32m--> 279\u001b[0m     p\u001b[39m.\u001b[39;49mgrad\u001b[39m.\u001b[39;49mzero_()\n\u001b[0;32m    280\u001b[0m \u001b[39melse\u001b[39;00m:\n\u001b[0;32m    281\u001b[0m     per_device_and_dtype_grads[p\u001b[39m.\u001b[39mgrad\u001b[39m.\u001b[39mdevice][p\u001b[39m.\u001b[39mgrad\u001b[39m.\u001b[39mdtype]\u001b[39m.\u001b[39mappend(p\u001b[39m.\u001b[39mgrad)\n",
      "\u001b[1;31mKeyboardInterrupt\u001b[0m: "
     ]
    }
   ],
   "source": [
    "import matplotlib.pyplot as plt\n",
    "import numpy as np\n",
    "from IPython.display import clear_output\n",
    "\n",
    "def plot_loss_graph(losses, epoch):\n",
    "    clear_output(wait=True)  # Clear the output of the current cell\n",
    "    plt.plot(losses)\n",
    "    plt.xlabel(\"Steps\")\n",
    "    plt.ylabel(\"Loss\")\n",
    "    plt.title(f\"Loss graph at epoch {epoch}\")\n",
    "    plt.show()\n",
    "\n",
    "def generate_sample(model, tokenizer, prompt, max_length=50):\n",
    "    input_ids = tokenizer.encode(prompt, return_tensors=\"pt\").to(device)\n",
    "    # attention_mask = (input_ids != tokenizer.pad_token_id).to(device)  # Create the attention mask\n",
    "    with torch.no_grad():\n",
    "        # output_ids = model.generate(input_ids, max_length=max_length, attention_mask=attention_mask)  # Pass the attention mask to the model\n",
    "        output_ids = model.generate(input_ids, max_length=max_length)\n",
    "    return tokenizer.decode(output_ids[0], skip_special_tokens=True)\n",
    "\n",
    "\n",
    "# Train the model\n",
    "model.train()\n",
    "losses = []\n",
    "\n",
    "# Check if pad_token_id is set and set it to 0 if not\n",
    "# if tokenizer.pad_token_id is None:\n",
    "#     print(\"Setting pad_token_id to 0\")\n",
    "#     tokenizer.pad_token_id = 0\n",
    "\n",
    "for epoch in range(num_epochs):\n",
    "    for step, batch in enumerate(train_loader):\n",
    "        input_ids = batch.to(device)\n",
    "        # print(f'pad_token_id: {tokenizer.pad_token_id}, input_ids: {input_ids}, input_ids != tokenizer.pad_token_id: {input_ids != tokenizer.pad_token_id}')\n",
    "        # boolean_mask = input_ids != tokenizer.pad_token_id  # Create a boolean mask\n",
    "        # attention_mask = boolean_mask.type_as(input_ids).to(device)  # Convert the boolean mask to a long tensor and move it to the device\n",
    "        \n",
    "        # outputs = model(input_ids, labels=input_ids, attention_mask=attention_mask)  # Pass the attention mask to the model\n",
    "\n",
    "        outputs = model(input_ids, labels=input_ids)\n",
    "\n",
    "        loss = outputs.loss\n",
    "\n",
    "        loss.backward()\n",
    "        optimizer.step()\n",
    "        scheduler.step()\n",
    "        optimizer.zero_grad()\n",
    "\n",
    "        losses.append(loss.item())\n",
    "\n",
    "    plot_loss_graph(losses, epoch + 1)\n",
    "\n",
    "\n",
    "\n",
    "# Plot the final loss graph\n",
    "plot_loss_graph(losses, 'Final')\n",
    "\n",
    "# Generate a sample inference\n",
    "model.eval()\n",
    "prompt = \"In a shocking turn of events,\"\n",
    "generated_text = generate_sample(model, tokenizer, prompt)\n",
    "print(f\"Generated text: {generated_text}\")\n"
   ]
  },
  {
   "attachments": {},
   "cell_type": "markdown",
   "metadata": {},
   "source": [
    "## Experiment Time!\n",
    "I've created a Dot Product Interaction Layer, which aims to provide that functionality to compare one set of activations with itself or others directly. Attention seems like it does that. So, I hope that attention emerges from the usage of this layer. I'm going to try to use it in the transformer used above and see what happens."
   ]
  },
  {
   "cell_type": "code",
   "execution_count": null,
   "metadata": {},
   "outputs": [
    {
     "name": "stdout",
     "output_type": "stream",
     "text": [
      "torch.Size([5, 10])\n"
     ]
    }
   ],
   "source": [
    "import torch\n",
    "import torch.nn as nn\n",
    "import torch.nn.functional as F\n",
    "\n",
    "class DotProductInteractionLayer(nn.Module):\n",
    "    def __init__(self, input_dim, threshold=0.0):\n",
    "        super(DotProductInteractionLayer, self).__init__()\n",
    "        self.input_dim = input_dim\n",
    "        self.threshold = threshold\n",
    "        self.interaction_matrix = nn.Parameter(torch.randn(input_dim, input_dim))\n",
    "\n",
    "    def forward(self, x):\n",
    "        # Compute the absolute interaction matrix\n",
    "        abs_interaction_matrix = torch.abs(self.interaction_matrix)\n",
    "        \n",
    "        # Apply thresholding to the interaction matrix\n",
    "        threshold_mask = (abs_interaction_matrix > self.threshold).float()\n",
    "        thresholded_interaction_matrix = abs_interaction_matrix * threshold_mask\n",
    "        \n",
    "        # Compute the dot product between the input activations and the thresholded interaction matrix\n",
    "        interaction_result = torch.matmul(x, thresholded_interaction_matrix)\n",
    "        \n",
    "        # Combine the interaction result with the original input (element-wise multiplication or addition)\n",
    "        combined_result = x * interaction_result  # element-wise multiplication\n",
    "        # combined_result = x + interaction_result  # element-wise addition\n",
    "        \n",
    "        return combined_result\n",
    "\n",
    "# Example usage\n",
    "input_dim = 10\n",
    "batch_size = 5\n",
    "threshold = 0.5\n",
    "x = torch.randn(batch_size, input_dim)\n",
    "layer = DotProductInteractionLayer(input_dim, threshold)\n",
    "output = layer(x)\n",
    "\n",
    "print(output.shape)  # Output should have the same shape as input: (batch_size, input_dim)\n"
   ]
  },
  {
   "cell_type": "code",
   "execution_count": null,
   "metadata": {},
   "outputs": [],
   "source": []
  }
 ],
 "metadata": {
  "kernelspec": {
   "display_name": "trexp",
   "language": "python",
   "name": "python3"
  },
  "language_info": {
   "codemirror_mode": {
    "name": "ipython",
    "version": 3
   },
   "file_extension": ".py",
   "mimetype": "text/x-python",
   "name": "python",
   "nbconvert_exporter": "python",
   "pygments_lexer": "ipython3",
   "version": "3.10.10"
  },
  "orig_nbformat": 4
 },
 "nbformat": 4,
 "nbformat_minor": 2
}
